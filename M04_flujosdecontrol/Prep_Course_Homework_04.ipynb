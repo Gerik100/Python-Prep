{
 "cells": [
  {
   "attachments": {},
   "cell_type": "markdown",
   "metadata": {},
   "source": [
    "## Flujos de Control"
   ]
  },
  {
   "attachments": {},
   "cell_type": "markdown",
   "metadata": {},
   "source": [
    "1) Crear una variable que contenga un elemento del conjunto de números enteros y luego imprimir por pantalla si es mayor o menor a cero"
   ]
  },
  {
   "cell_type": "code",
   "execution_count": 3,
   "metadata": {},
   "outputs": [
    {
     "name": "stdout",
     "output_type": "stream",
     "text": [
      "Es mayor que cero\n"
     ]
    }
   ],
   "source": [
    "a = 7\n",
    "if a > 0:\n",
    "    print('Es mayor que cero')\n",
    "elif a < 0:\n",
    "    print('Es menor que cero')"
   ]
  },
  {
   "attachments": {},
   "cell_type": "markdown",
   "metadata": {},
   "source": [
    "2) Crear dos variables y un condicional que informe si son del mismo tipo de dato"
   ]
  },
  {
   "cell_type": "code",
   "execution_count": 7,
   "metadata": {},
   "outputs": [
    {
     "name": "stdout",
     "output_type": "stream",
     "text": [
      "No son del mismo tipo\n"
     ]
    }
   ],
   "source": [
    "x = 4\n",
    "y = \"r\"\n",
    "if type(x) == type(y):\n",
    "    print(\"Son del mismo tipo\")\n",
    "elif type(x) != type(y):\n",
    "    print(\"No son del mismo tipo\")"
   ]
  },
  {
   "attachments": {},
   "cell_type": "markdown",
   "metadata": {},
   "source": [
    "3) Para los valores enteros del 1 al 20, imprimir por pantalla si es par o impar"
   ]
  },
  {
   "cell_type": "code",
   "execution_count": 8,
   "metadata": {},
   "outputs": [
    {
     "name": "stdout",
     "output_type": "stream",
     "text": [
      "1 es impar\n",
      "2 es par\n",
      "3 es impar\n",
      "4 es par\n",
      "5 es impar\n",
      "6 es par\n",
      "7 es impar\n",
      "8 es par\n",
      "9 es impar\n",
      "10 es par\n",
      "11 es impar\n",
      "12 es par\n",
      "13 es impar\n",
      "14 es par\n",
      "15 es impar\n",
      "16 es par\n",
      "17 es impar\n",
      "18 es par\n",
      "19 es impar\n",
      "20 es par\n"
     ]
    }
   ],
   "source": [
    "for i in range(1,21):\n",
    "    if i % 2 == 0:\n",
    "        print(i, \"es par\")\n",
    "    elif i % 2 != 0:\n",
    "        print(i, \"es impar\")"
   ]
  },
  {
   "attachments": {},
   "cell_type": "markdown",
   "metadata": {},
   "source": [
    "4) En un ciclo for mostrar para los valores entre 0 y 5 el resultado de elevarlo a la potencia igual a 3"
   ]
  },
  {
   "cell_type": "code",
   "execution_count": 9,
   "metadata": {},
   "outputs": [
    {
     "name": "stdout",
     "output_type": "stream",
     "text": [
      "0\n",
      "1\n",
      "8\n",
      "27\n",
      "64\n",
      "125\n"
     ]
    }
   ],
   "source": [
    "for i in range(0,6):\n",
    "    print(i**3)"
   ]
  },
  {
   "attachments": {},
   "cell_type": "markdown",
   "metadata": {},
   "source": [
    "5) Crear una variable que contenga un número entero y realizar un ciclo for la misma cantidad de ciclos"
   ]
  },
  {
   "cell_type": "code",
   "execution_count": 10,
   "metadata": {},
   "outputs": [
    {
     "name": "stdout",
     "output_type": "stream",
     "text": [
      "Iteracion 1\n",
      "Iteracion 2\n",
      "Iteracion 3\n",
      "Iteracion 4\n",
      "Iteracion 5\n",
      "Iteracion 6\n",
      "Iteracion 7\n"
     ]
    }
   ],
   "source": [
    "c = 7\n",
    "for i in range(1,c + 1):\n",
    "    print(\"Iteracion\", i )"
   ]
  },
  {
   "attachments": {},
   "cell_type": "markdown",
   "metadata": {},
   "source": [
    "6) Utilizar un ciclo while para realizar el factorial de un número guardado en una variable, sólo si la variable contiene un número entero mayor a 0"
   ]
  },
  {
   "cell_type": "code",
   "execution_count": 36,
   "metadata": {},
   "outputs": [
    {
     "name": "stdout",
     "output_type": "stream",
     "text": [
      " factorial es  5040\n"
     ]
    }
   ],
   "source": [
    "f = 7\n",
    "if type(f) == int:\n",
    "    if f > 0:\n",
    "        factorial = f\n",
    "        while f > 2:\n",
    "            f = f - 1\n",
    "            factorial = factorial * f\n",
    "        print(\" factorial es \", factorial)\n",
    "    else:\n",
    "        print(f,\" es menor que cero\")\n",
    "else:\n",
    "    print(f, \" no es entero\")\n"
   ]
  },
  {
   "attachments": {},
   "cell_type": "markdown",
   "metadata": {},
   "source": [
    "7) Crear un ciclo for dentro de un ciclo while"
   ]
  },
  {
   "cell_type": "code",
   "execution_count": 10,
   "metadata": {},
   "outputs": [
    {
     "name": "stdout",
     "output_type": "stream",
     "text": [
      "iteracion While 1\n",
      "Iteracion  1\n",
      "Iteracion  2\n",
      "Iteracion  3\n",
      "iteracion While 2\n",
      "Iteracion  1\n",
      "Iteracion  2\n",
      "Iteracion  3\n"
     ]
    }
   ],
   "source": [
    "r = 1\n",
    "while r < 3:\n",
    "    print(\"iteracion While\", r)\n",
    "    for i in range(1,4):\n",
    "        print(\"Iteracion \", i)\n",
    "    r = r + 1"
   ]
  },
  {
   "attachments": {},
   "cell_type": "markdown",
   "metadata": {},
   "source": [
    "8) Crear un ciclo while dentro de un ciclo for"
   ]
  },
  {
   "cell_type": "code",
   "execution_count": 12,
   "metadata": {},
   "outputs": [
    {
     "name": "stdout",
     "output_type": "stream",
     "text": [
      "Iteracion ciclo for 1\n",
      "iteracion while 1\n",
      "iteracion while 2\n",
      "iteracion while 3\n",
      "iteracion while 4\n",
      "iteracion while 5\n",
      "Iteracion ciclo for 2\n",
      "iteracion while 1\n",
      "iteracion while 2\n",
      "iteracion while 3\n",
      "iteracion while 4\n",
      "iteracion while 5\n",
      "Iteracion ciclo for 3\n",
      "iteracion while 1\n",
      "iteracion while 2\n",
      "iteracion while 3\n",
      "iteracion while 4\n",
      "iteracion while 5\n",
      "Iteracion ciclo for 4\n",
      "iteracion while 1\n",
      "iteracion while 2\n",
      "iteracion while 3\n",
      "iteracion while 4\n",
      "iteracion while 5\n"
     ]
    }
   ],
   "source": [
    "r = 1\n",
    "for i in range(1,5):\n",
    "    print(\"Iteracion ciclo for\", i)\n",
    "    while r < 6:\n",
    "        print(\"iteracion while\", r)\n",
    "        r = r + 1\n",
    "    r = 1"
   ]
  },
  {
   "attachments": {},
   "cell_type": "markdown",
   "metadata": {},
   "source": [
    "9) Imprimir los números primos existentes entre 0 y 30"
   ]
  },
  {
   "cell_type": "code",
   "execution_count": 30,
   "metadata": {},
   "outputs": [
    {
     "name": "stdout",
     "output_type": "stream",
     "text": [
      "2\n",
      "3\n",
      "5\n",
      "7\n",
      "11\n",
      "13\n",
      "17\n",
      "19\n",
      "23\n",
      "29\n"
     ]
    }
   ],
   "source": [
    "n = 31\n",
    "primo = True\n",
    "r = 2\n",
    "while r < n:\n",
    "    for i in range(2, r):\n",
    "        if r % i == 0:\n",
    "            primo = False\n",
    "    if(primo):\n",
    "        print(r)\n",
    "    else:\n",
    "        primo = True\n",
    "    r += 1"
   ]
  },
  {
   "attachments": {},
   "cell_type": "markdown",
   "metadata": {},
   "source": [
    "10) ¿Se puede mejorar el proceso del punto 9? Utilizar las sentencias break y/ó continue para tal fin"
   ]
  },
  {
   "cell_type": "code",
   "execution_count": 32,
   "metadata": {},
   "outputs": [
    {
     "name": "stdout",
     "output_type": "stream",
     "text": [
      "2\n",
      "3\n",
      "5\n",
      "7\n",
      "11\n",
      "13\n",
      "17\n",
      "19\n",
      "23\n",
      "29\n"
     ]
    }
   ],
   "source": [
    "n = 31\n",
    "primo = True\n",
    "r = 2\n",
    "while r < n:\n",
    "    for i in range(2, r):\n",
    "        if r % i == 0:\n",
    "            primo = False\n",
    "            break\n",
    "    if(primo):\n",
    "        print(r)\n",
    "    else:\n",
    "        primo = True\n",
    "    r += 1"
   ]
  },
  {
   "attachments": {},
   "cell_type": "markdown",
   "metadata": {},
   "source": [
    "11) En los puntos 9 y 10, se diseño un código que encuentra números primos y además se lo optimizó. ¿Es posible saber en qué medida se optimizó?"
   ]
  },
  {
   "cell_type": "code",
   "execution_count": 21,
   "metadata": {},
   "outputs": [
    {
     "name": "stdout",
     "output_type": "stream",
     "text": [
      "2\n",
      "3\n",
      "5\n",
      "7\n",
      "11\n",
      "13\n",
      "17\n",
      "19\n",
      "23\n",
      "29\n",
      "Ciclos con programa no optimizado: 406\n"
     ]
    }
   ],
   "source": [
    "ciclos_no = 0\n",
    "n = 31\n",
    "primo = True\n",
    "r = 2\n",
    "while r < n:\n",
    "    for i in range(2, r):\n",
    "        ciclos_no += 1\n",
    "        if r % i == 0:\n",
    "            primo = False\n",
    "    if primo:\n",
    "        print(r)\n",
    "    else:\n",
    "        primo = True\n",
    "    r += 1\n",
    "print(\"Ciclos con programa no optimizado: \" + str(ciclos_no))"
   ]
  },
  {
   "cell_type": "code",
   "execution_count": 39,
   "metadata": {},
   "outputs": [
    {
     "name": "stdout",
     "output_type": "stream",
     "text": [
      "2\n",
      "3\n",
      "5\n",
      "7\n",
      "11\n",
      "13\n",
      "17\n",
      "19\n",
      "23\n",
      "29\n",
      "Ciclos con programa no optimizado: 135\n",
      "Se optimizo un 22.5 % de los ciclos\n"
     ]
    }
   ],
   "source": [
    "ciclos_o = 0\n",
    "n = 31\n",
    "primo = True\n",
    "r = 2\n",
    "while r < n:\n",
    "    for i in range(2, r):\n",
    "        ciclos_o += 1\n",
    "        if r % i == 0:\n",
    "            primo = False\n",
    "            break\n",
    "    if primo:\n",
    "        print(r)\n",
    "    else:\n",
    "        primo = True\n",
    "    r += 1\n",
    "print(\"Ciclos con programa no optimizado: \" + str(ciclos_o))\n",
    "print(\"Se optimizo un \" + str(round(ciclos_o*100/ciclos_no,1))+ \" % de los ciclos\")"
   ]
  },
  {
   "attachments": {},
   "cell_type": "markdown",
   "metadata": {},
   "source": [
    "12) Aplicando continue, armar un ciclo while que solo imprima los valores divisibles por 12, dentro del rango de números de 100 a 300"
   ]
  },
  {
   "cell_type": "code",
   "execution_count": 3,
   "metadata": {},
   "outputs": [
    {
     "name": "stdout",
     "output_type": "stream",
     "text": [
      "108 Es multiplo de 12\n",
      "120 Es multiplo de 12\n",
      "132 Es multiplo de 12\n",
      "144 Es multiplo de 12\n",
      "156 Es multiplo de 12\n",
      "168 Es multiplo de 12\n",
      "180 Es multiplo de 12\n",
      "192 Es multiplo de 12\n",
      "204 Es multiplo de 12\n",
      "216 Es multiplo de 12\n",
      "228 Es multiplo de 12\n",
      "240 Es multiplo de 12\n",
      "252 Es multiplo de 12\n",
      "264 Es multiplo de 12\n",
      "276 Es multiplo de 12\n",
      "288 Es multiplo de 12\n",
      "300 Es multiplo de 12\n"
     ]
    }
   ],
   "source": [
    "i = 99\n",
    "while i < 300:\n",
    "    i += 1\n",
    "    if(i % 12 != 0):\n",
    "        continue\n",
    "    print(i, 'Es multiplo de 12')"
   ]
  },
  {
   "attachments": {},
   "cell_type": "markdown",
   "metadata": {},
   "source": [
    "13) Utilizar la función **input()** que permite hacer ingresos por teclado, para encontrar números primos y dar la opción al usario de buscar el siguiente"
   ]
  },
  {
   "cell_type": "code",
   "execution_count": 9,
   "metadata": {},
   "outputs": [
    {
     "name": "stdout",
     "output_type": "stream",
     "text": [
      "2\n",
      "Desea desplegar el siguiente numero primo?\n",
      "3\n",
      "Desea desplegar el siguiente numero primo?\n",
      "5\n",
      "Desea desplegar el siguiente numero primo?\n",
      "7\n",
      "Desea desplegar el siguiente numero primo?\n",
      "11\n",
      "Desea desplegar el siguiente numero primo?\n",
      "13\n",
      "Desea desplegar el siguiente numero primo?\n",
      "17\n",
      "Desea desplegar el siguiente numero primo?\n",
      "Salida del ciclo\n"
     ]
    }
   ],
   "source": [
    "n = 2\n",
    "r = 1\n",
    "primo = True\n",
    "while(r == 1):\n",
    "    for i in range(2,n):\n",
    "        if n % i == 0:\n",
    "            primo = False\n",
    "            break\n",
    "    if primo:\n",
    "        print(n)\n",
    "        print(\"Desea desplegar el siguiente numero primo?\")\n",
    "        if input() != '1':\n",
    "            print(\"Salida del ciclo\")\n",
    "            break\n",
    "    else:\n",
    "        primo =True\n",
    "    n += 1 \n"
   ]
  },
  {
   "attachments": {},
   "cell_type": "markdown",
   "metadata": {},
   "source": [
    "14) Crear un ciclo while que encuentre dentro del rango de 100 a 300 el primer número divisible por 3 y además múltiplo de 6"
   ]
  },
  {
   "cell_type": "code",
   "execution_count": 15,
   "metadata": {},
   "outputs": [
    {
     "name": "stdout",
     "output_type": "stream",
     "text": [
      "El primer numero divisible entre 3 y multiplo de 6 entre 100 y 300 es 102\n"
     ]
    }
   ],
   "source": [
    "r = 100\n",
    "while r <= 300:\n",
    "    if r % 6 == 0:\n",
    "        print('El primer numero divisible entre 3 y multiplo de 6 entre 100 y 300 es',str(r))\n",
    "        break\n",
    "    r += 1"
   ]
  }
 ],
 "metadata": {
  "interpreter": {
   "hash": "c85384e4cb51c8b72350f3a8712cc8351fdc3955e32a27f9b60c6242ab125f01"
  },
  "kernelspec": {
   "display_name": "Python 3 (ipykernel)",
   "language": "python",
   "name": "python3"
  },
  "language_info": {
   "codemirror_mode": {
    "name": "ipython",
    "version": 3
   },
   "file_extension": ".py",
   "mimetype": "text/x-python",
   "name": "python",
   "nbconvert_exporter": "python",
   "pygments_lexer": "ipython3",
   "version": "3.10.11"
  }
 },
 "nbformat": 4,
 "nbformat_minor": 4
}
